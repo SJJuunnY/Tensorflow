{
  "nbformat": 4,
  "nbformat_minor": 0,
  "metadata": {
    "colab": {
      "provenance": [],
      "authorship_tag": "ABX9TyP1+zWgnL5m3iGm6/Oik2xo",
      "include_colab_link": true
    },
    "kernelspec": {
      "name": "python3",
      "display_name": "Python 3"
    },
    "language_info": {
      "name": "python"
    }
  },
  "cells": [
    {
      "cell_type": "markdown",
      "metadata": {
        "id": "view-in-github",
        "colab_type": "text"
      },
      "source": [
        "<a href=\"https://colab.research.google.com/github/SJJuunnY/Tensorflow/blob/main/1_Tensor.ipynb\" target=\"_parent\"><img src=\"https://colab.research.google.com/assets/colab-badge.svg\" alt=\"Open In Colab\"/></a>"
      ]
    },
    {
      "cell_type": "code",
      "execution_count": null,
      "metadata": {
        "id": "o1PzZ1QG2xeh"
      },
      "outputs": [],
      "source": [
        "import numpy as np\n",
        "import pandas as pd\n",
        "import torch"
      ]
    },
    {
      "cell_type": "code",
      "source": [
        "print(pd.__version__)\n",
        "print(np.__version__)\n",
        "print(torch.__version__)"
      ],
      "metadata": {
        "colab": {
          "base_uri": "https://localhost:8080/"
        },
        "id": "jYqmCmgB5taS",
        "outputId": "59ef98bb-9709-4ee5-d320-d92980dfe75c"
      },
      "execution_count": null,
      "outputs": [
        {
          "output_type": "stream",
          "name": "stdout",
          "text": [
            "1.5.3\n",
            "1.25.2\n",
            "2.2.1+cu121\n"
          ]
        }
      ]
    },
    {
      "cell_type": "code",
      "source": [
        "# tensor 생성 (다차원 배열 == numpy 배열 )\n",
        "x = torch.Tensor(2,3)\n",
        "print(x)"
      ],
      "metadata": {
        "colab": {
          "base_uri": "https://localhost:8080/"
        },
        "id": "DJaMIP5B6K0_",
        "outputId": "2718a405-8852-4e68-9c46-773c7db13986"
      },
      "execution_count": null,
      "outputs": [
        {
          "output_type": "stream",
          "name": "stdout",
          "text": [
            "tensor([[-3.2741e-08,  3.0984e-41,  5.0447e-44],\n",
            "        [ 0.0000e+00,  0.0000e+00,  0.0000e+00]])\n"
          ]
        }
      ]
    },
    {
      "cell_type": "code",
      "source": [
        "print(type(x)) # <class 'torch.Tensor'>\n",
        "print(x.type()) # <class 'torch.Tensor'>"
      ],
      "metadata": {
        "colab": {
          "base_uri": "https://localhost:8080/"
        },
        "id": "5_eIfXWH6TcF",
        "outputId": "8568b66f-edc8-4c98-f239-0e2c55a0eaf9"
      },
      "execution_count": null,
      "outputs": [
        {
          "output_type": "stream",
          "name": "stdout",
          "text": [
            "<class 'torch.Tensor'>\n",
            "torch.FloatTensor\n"
          ]
        }
      ]
    },
    {
      "cell_type": "code",
      "source": [
        "print(x.size()) # torch.Size([2, 3])\n",
        "print( np.array([1,2]).shape) # (2,)"
      ],
      "metadata": {
        "colab": {
          "base_uri": "https://localhost:8080/"
        },
        "id": "VWOCSpWa7Ct0",
        "outputId": "3e92e946-da91-4010-8c67-b01f0bb55010"
      },
      "execution_count": null,
      "outputs": [
        {
          "output_type": "stream",
          "name": "stdout",
          "text": [
            "torch.Size([2, 3])\n",
            "(2,)\n"
          ]
        }
      ]
    },
    {
      "cell_type": "code",
      "source": [
        "#넘파이랑 비슷\n",
        "x = torch.zeros(2,3)\n",
        "print(x)\n",
        "x = torch.ones(2,3)\n",
        "print(x)\n",
        "x = torch.ones(2,3,dtype=torch.int32)\n",
        "print(x)"
      ],
      "metadata": {
        "colab": {
          "base_uri": "https://localhost:8080/"
        },
        "id": "Wxq5FAor7U4v",
        "outputId": "6cf956e0-930a-4bfb-a1fd-99be124368f1"
      },
      "execution_count": null,
      "outputs": [
        {
          "output_type": "stream",
          "name": "stdout",
          "text": [
            "tensor([[0., 0., 0.],\n",
            "        [0., 0., 0.]])\n",
            "tensor([[1., 1., 1.],\n",
            "        [1., 1., 1.]])\n",
            "tensor([[1, 1, 1],\n",
            "        [1, 1, 1]], dtype=torch.int32)\n"
          ]
        }
      ]
    },
    {
      "cell_type": "code",
      "source": [
        "print(torch.rand(2,3))\n",
        "print(torch.randn(2,3))\n",
        "print(torch.eye(3,3))\n",
        "print(torch.eye(2,3))"
      ],
      "metadata": {
        "colab": {
          "base_uri": "https://localhost:8080/"
        },
        "id": "ldZ_BXJ-8Ejs",
        "outputId": "bf9fddb2-9d93-4d93-d49f-a36f35762d2b"
      },
      "execution_count": null,
      "outputs": [
        {
          "output_type": "stream",
          "name": "stdout",
          "text": [
            "tensor([[0.1489, 0.5550, 0.1844],\n",
            "        [0.2405, 0.4019, 0.5973]])\n",
            "tensor([[ 0.3079,  0.2673,  0.5740],\n",
            "        [-0.0558, -1.4895,  0.9087]])\n",
            "tensor([[1., 0., 0.],\n",
            "        [0., 1., 0.],\n",
            "        [0., 0., 1.]])\n",
            "tensor([[1., 0., 0.],\n",
            "        [0., 1., 0.]])\n"
          ]
        }
      ]
    },
    {
      "cell_type": "code",
      "source": [
        "print(torch.arange(0,2,step=0.5))\n",
        "print(torch.Tensor([[1,2,3],[1,2,3]]))"
      ],
      "metadata": {
        "colab": {
          "base_uri": "https://localhost:8080/"
        },
        "id": "2qn4AVge9Ol2",
        "outputId": "6756a9e6-2c7a-4985-b7b3-411411813053"
      },
      "execution_count": null,
      "outputs": [
        {
          "output_type": "stream",
          "name": "stdout",
          "text": [
            "tensor([0.0000, 0.5000, 1.0000, 1.5000])\n",
            "tensor([[1., 2., 3.],\n",
            "        [1., 2., 3.]])\n"
          ]
        }
      ]
    },
    {
      "cell_type": "code",
      "source": [
        "print(torch.IntTensor(2,3))\n",
        "print(torch.BFloat16TensorTensor(2,3))"
      ],
      "metadata": {
        "colab": {
          "base_uri": "https://localhost:8080/"
        },
        "id": "WlzOoggF-AyO",
        "outputId": "7d5c5553-2fd2-4cb2-89c8-57759ff8e221"
      },
      "execution_count": null,
      "outputs": [
        {
          "output_type": "stream",
          "name": "stdout",
          "text": [
            "tensor([[-673538368,      22106,  699034848],\n",
            "        [     32510,         80,          0]], dtype=torch.int32)\n",
            "tensor([[3.8096e-14, 4.5556e-41, 3.7951e-14],\n",
            "        [4.5556e-41, 4.1564e-14, 4.5556e-41]])\n"
          ]
        }
      ]
    },
    {
      "cell_type": "code",
      "source": [
        "x = np.array([[1,2,3],[1,2,3]])\n",
        "print(x, type(x))\n",
        "x = torch.from_numpy(x)\n",
        "print(x,type(x))\n",
        "y = x.numpy()\n",
        "print(y, type(y))"
      ],
      "metadata": {
        "colab": {
          "base_uri": "https://localhost:8080/"
        },
        "id": "jniHKm-u-GuU",
        "outputId": "a9b060f4-b2de-49e4-eae2-f597fb640cfe"
      },
      "execution_count": null,
      "outputs": [
        {
          "output_type": "stream",
          "name": "stdout",
          "text": [
            "[[1 2 3]\n",
            " [1 2 3]] <class 'numpy.ndarray'>\n",
            "tensor([[1, 2, 3],\n",
            "        [1, 2, 3]]) <class 'torch.Tensor'>\n",
            "[[1 2 3]\n",
            " [1 2 3]] <class 'numpy.ndarray'>\n"
          ]
        }
      ]
    },
    {
      "cell_type": "code",
      "source": [
        "x = torch.Tensor([[1,2,3,4],[5,6,7,8],[9,10,11,12]])\n",
        "print(x)"
      ],
      "metadata": {
        "colab": {
          "base_uri": "https://localhost:8080/"
        },
        "id": "Eh0wro3V-6EU",
        "outputId": "ef177211-ef16-48d9-aa89-b4329c427e15"
      },
      "execution_count": null,
      "outputs": [
        {
          "output_type": "stream",
          "name": "stdout",
          "text": [
            "tensor([[ 1.,  2.,  3.,  4.],\n",
            "        [ 5.,  6.,  7.,  8.],\n",
            "        [ 9., 10., 11., 12.]])\n"
          ]
        }
      ]
    },
    {
      "cell_type": "code",
      "source": [
        "#slice indexing\n",
        "print(x[:,1:]) # 행 다가져오고 열은 2번째부터\n",
        "print(x[1:,1:2]) #행 2번째 이후로만 가져오고, 열은 2번째만"
      ],
      "metadata": {
        "colab": {
          "base_uri": "https://localhost:8080/"
        },
        "id": "VqYdejWB_KY_",
        "outputId": "57e0d60c-bad9-493e-afd1-29e277b7fb36"
      },
      "execution_count": null,
      "outputs": [
        {
          "output_type": "stream",
          "name": "stdout",
          "text": [
            "tensor([[ 2.,  3.,  4.],\n",
            "        [ 6.,  7.,  8.],\n",
            "        [10., 11., 12.]])\n",
            "tensor([[ 6.],\n",
            "        [10.]])\n"
          ]
        }
      ]
    },
    {
      "cell_type": "code",
      "source": [
        "print(x)\n",
        "x_rows = torch.split(x, split_size_or_sections=2, dim=1 ) # 1행식 잘라서 배열로 저장하자 dim=0 => 행, 1=> 열\n",
        "print(x_rows)\n",
        "print(type(x_rows))"
      ],
      "metadata": {
        "colab": {
          "base_uri": "https://localhost:8080/"
        },
        "id": "dTuqRTsNAJuo",
        "outputId": "bec0af08-f2ec-4bbd-efeb-94d7a307b9bc"
      },
      "execution_count": null,
      "outputs": [
        {
          "output_type": "stream",
          "name": "stdout",
          "text": [
            "tensor([[ 1.,  2.,  3.,  4.],\n",
            "        [ 5.,  6.,  7.,  8.],\n",
            "        [ 9., 10., 11., 12.]])\n",
            "(tensor([[ 1.,  2.],\n",
            "        [ 5.,  6.],\n",
            "        [ 9., 10.]]), tensor([[ 3.,  4.],\n",
            "        [ 7.,  8.],\n",
            "        [11., 12.]]))\n",
            "<class 'tuple'>\n"
          ]
        }
      ]
    },
    {
      "cell_type": "code",
      "source": [
        "torch.chunk(x, chunks=2, dim=1) # 어 torch.split(x, split_size_or_sections=2, dim=1) 랑 똑같네"
      ],
      "metadata": {
        "colab": {
          "base_uri": "https://localhost:8080/"
        },
        "id": "Ar-Seer_A5zk",
        "outputId": "281b35cb-4f38-4e88-b5a7-fcc56f00ff68"
      },
      "execution_count": null,
      "outputs": [
        {
          "output_type": "execute_result",
          "data": {
            "text/plain": [
              "(tensor([[ 1.,  2.],\n",
              "         [ 5.,  6.],\n",
              "         [ 9., 10.]]),\n",
              " tensor([[ 3.,  4.],\n",
              "         [ 7.,  8.],\n",
              "         [11., 12.]]))"
            ]
          },
          "metadata": {},
          "execution_count": 66
        }
      ]
    },
    {
      "cell_type": "code",
      "source": [
        "torch.BoolTensor([[1,0,0],[0,1,1]])"
      ],
      "metadata": {
        "colab": {
          "base_uri": "https://localhost:8080/"
        },
        "id": "vpzCkXtjBGic",
        "outputId": "fabce765-bda2-414c-d593-5a772529c3cd"
      },
      "execution_count": null,
      "outputs": [
        {
          "output_type": "execute_result",
          "data": {
            "text/plain": [
              "tensor([[ True, False, False],\n",
              "        [False,  True,  True]])"
            ]
          },
          "metadata": {},
          "execution_count": 69
        }
      ]
    }
  ]
}